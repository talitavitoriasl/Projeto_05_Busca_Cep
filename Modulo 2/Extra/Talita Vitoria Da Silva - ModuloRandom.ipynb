{
 "cells": [
  {
   "cell_type": "markdown",
   "metadata": {
    "id": "SdV97mpV1zYf"
   },
   "source": [
    "### Módulo Random\n",
    "\n",
    "Existe um módulo no python que já vem junto ao instalar, que nos permite trabalhar com números de forma aleatória o Random"
   ]
  },
  {
   "cell_type": "markdown",
   "metadata": {
    "id": "9dXyO7PF349N"
   },
   "source": [
    "Para uitilzar ele não precisa de nenhuma instalação, basta importar ele:\n",
    "\n",
    "Vamos importar apenas duas funções desse módulo randrange e randint por enquanto.\n"
   ]
  },
  {
   "cell_type": "code",
   "execution_count": null,
   "metadata": {
    "id": "1zkbzHgv34Gu"
   },
   "outputs": [],
   "source": [
    "from random import  randrange, randint"
   ]
  },
  {
   "cell_type": "markdown",
   "metadata": {
    "id": "K5xeXc506-Jq"
   },
   "source": [
    " ### Randrange\n",
    "\n",
    " Essa função nos gera um número aleatorio, dentro do periodo(range) que determinamos a ele, vamos começar com um exemplo bem simples"
   ]
  },
  {
   "cell_type": "code",
   "execution_count": null,
   "metadata": {
    "colab": {
     "base_uri": "https://localhost:8080/"
    },
    "executionInfo": {
     "elapsed": 8,
     "status": "ok",
     "timestamp": 1744630461440,
     "user": {
      "displayName": "matheus silva",
      "userId": "03241644958317690825"
     },
     "user_tz": 180
    },
    "id": "tTKRDAvp7yAe",
    "outputId": "9df3327d-4d52-4b00-9ff3-fa1d4e72ef13"
   },
   "outputs": [
    {
     "name": "stdout",
     "output_type": "stream",
     "text": [
      "2\n"
     ]
    }
   ],
   "source": [
    "# gera um número aleatório de 0 a 10, lembrando que no Python os números começam em zero\n",
    "print(randrange(10))\n"
   ]
  },
  {
   "cell_type": "markdown",
   "metadata": {
    "id": "JiHAU4nKFwvV"
   },
   "source": [
    "### Função Random dentro do módulo Random\n",
    "\n",
    "Não confunda as coisas apesar de ter o mesmo nome do módulo, aqui estamos falando de uma função dentro do módulo ela serve para gerar números de forma aleatória.\n",
    "\n",
    "Vamos ver o funcionamento abaixo:"
   ]
  },
  {
   "cell_type": "code",
   "execution_count": 1,
   "metadata": {
    "id": "FWijvt66GLfe"
   },
   "outputs": [
    {
     "name": "stdout",
     "output_type": "stream",
     "text": [
      "0.5496585791680638\n",
      "0.9902833790055076\n",
      "0.2590695412303008\n",
      "0.8275518902752292\n",
      "0.14421528279981566\n",
      "0.3502015879756579\n",
      "0.3147783315448429\n",
      "0.21317273557628458\n",
      "0.5326064398549761\n",
      "0.9398048964049087\n"
     ]
    }
   ],
   "source": [
    "#importando o módulo e a função random\n",
    "from random import random\n",
    "#utilizando o for para printar 10 números aleatórios\n",
    "for i in range(10):\n",
    "    print(random())\n",
    "\n",
    "\n"
   ]
  },
  {
   "cell_type": "markdown",
   "metadata": {
    "id": "g6oaYamhHW60"
   },
   "source": [
    "Sua vez, melhore o código anterior para que ele gere de forma aleatória 10 números inteiros."
   ]
  },
  {
   "cell_type": "code",
   "execution_count": 11,
   "metadata": {
    "id": "UxBSPdIsHxTP"
   },
   "outputs": [
    {
     "name": "stdout",
     "output_type": "stream",
     "text": [
      "22\n",
      "90\n",
      "80\n",
      "12\n",
      "96\n",
      "55\n",
      "90\n",
      "1\n",
      "9\n",
      "22\n"
     ]
    }
   ],
   "source": [
    "# vamos lá precisamos fazer um for com random, porém precisamos que o random nos gere 10 numeros inteiros\n",
    "# Importando o módulo e a função randint\n",
    "from random import randint\n",
    "\n",
    "# Utilizando o for para printar 10 números inteiros aleatórios\n",
    "for i in range(10):\n",
    "    print(randint(1, 100)) \n"
   ]
  },
  {
   "cell_type": "markdown",
   "metadata": {
    "id": "IZpkwgp8dPJJ"
   },
   "source": [
    "### Função seed\n",
    "\n",
    "Usamos o seed para \"Gravar\" os resultados ou seja mesmo que gerados de forma aleatória na primeira execução, nós podemos usar o seed para que na segunda em diante sejam os mesmos resultados, vamos ver abaixo:\n",
    "\n"
   ]
  },
  {
   "cell_type": "code",
   "execution_count": null,
   "metadata": {
    "colab": {
     "base_uri": "https://localhost:8080/"
    },
    "executionInfo": {
     "elapsed": 10,
     "status": "ok",
     "timestamp": 1744648682797,
     "user": {
      "displayName": "matheus silva",
      "userId": "03241644958317690825"
     },
     "user_tz": 180
    },
    "id": "eFeU1XPKfoHm",
    "outputId": "dc99f9e9-ac2e-4893-bb2a-25d6ae248749"
   },
   "outputs": [
    {
     "name": "stdout",
     "output_type": "stream",
     "text": [
      "81\n",
      "14\n",
      "3\n",
      "94\n",
      "35\n",
      "31\n",
      "28\n",
      "17\n",
      "94\n",
      "13\n"
     ]
    }
   ],
   "source": [
    "# vamos lá , importando o seed\n",
    "from random import randint, seed\n",
    "\n",
    "seed(42)\n",
    "\n",
    "for i in range(10):\n",
    "  print(randint(0,100))"
   ]
  },
  {
   "cell_type": "markdown",
   "metadata": {
    "id": "TtnaSsFXVrub"
   },
   "source": [
    "Além disso os números gerados de forma aleatória podem ser \"armazenados\" em uma váriavel vamos fazer um teste?\n",
    "\n"
   ]
  },
  {
   "cell_type": "code",
   "execution_count": 11,
   "metadata": {
    "colab": {
     "base_uri": "https://localhost:8080/"
    },
    "executionInfo": {
     "elapsed": 4,
     "status": "ok",
     "timestamp": 1744652459102,
     "user": {
      "displayName": "matheus silva",
      "userId": "03241644958317690825"
     },
     "user_tz": 180
    },
    "id": "Zzzx65ArYE2r",
    "outputId": "10cc4dff-7231-497d-d3f4-10e46f20e7eb"
   },
   "outputs": [
    {
     "name": "stdout",
     "output_type": "stream",
     "text": [
      "54\n"
     ]
    }
   ],
   "source": [
    "#vamos declarar uma váriavel e ver se o número é armazenado nela.\n",
    "numero_aleatorio = randint(0,100)\n",
    "print(numero_aleatorio)"
   ]
  },
  {
   "cell_type": "markdown",
   "metadata": {
    "id": "GjeqObkuZBja"
   },
   "source": [
    "Percebeu ? por mais que você armazene o número ele vai sempre mudar, como corrigir isso?"
   ]
  },
  {
   "cell_type": "code",
   "execution_count": 14,
   "metadata": {
    "colab": {
     "base_uri": "https://localhost:8080/"
    },
    "executionInfo": {
     "elapsed": 7,
     "status": "ok",
     "timestamp": 1744653218230,
     "user": {
      "displayName": "matheus silva",
      "userId": "03241644958317690825"
     },
     "user_tz": 180
    },
    "id": "6NP3TEOebuKJ",
    "outputId": "343b9dd0-81c9-4128-9c72-a37520f1e912"
   },
   "outputs": [
    {
     "name": "stdout",
     "output_type": "stream",
     "text": [
      "81\n"
     ]
    }
   ],
   "source": [
    "#atráves da função seed\n",
    "from random import randint, seed\n",
    "seed(42)\n",
    "numero_aleatorio = randint(0,100)\n",
    "print(numero_aleatorio)\n",
    "\n",
    "#viu agora resolvemos a questão o número será sempre o mesmo."
   ]
  },
  {
   "cell_type": "markdown",
   "metadata": {
    "id": "wb7D4tKmTvj8"
   },
   "source": [
    "### Mão na Massa!!!\n",
    "\n",
    "Agora imagina que você foi contratado para desenvolver um jogo, esse jogo deve gerar um número inteiro de forma aleatória e solicitar ao usuário que tente acertar esse número.\n",
    "\n",
    "Caso o usuário acerte \"print\" na tela parabéns você acertou, caso contrário \"print\" poxa que pena você não acertou!!, vamos tentar de novo\n"
   ]
  },
  {
   "cell_type": "code",
   "execution_count": null,
   "metadata": {},
   "outputs": [],
   "source": [
    "import random  \n",
    "\n",
    "\n",
    "numero_aleatorio = random.randint(1, 100)\n",
    "while True:\n",
    "\n",
    "    tentativa = int(input(\"Tente adivinhar o número (entre 1 e 100): \"))\n",
    "    if tentativa == numero_aleatorio:\n",
    "        print(\"Parabéns! Você acertou!\")\n",
    "        break \n",
    "    else:\n",
    "        print(\"Poxa, que pena! Você não acertou! Vamos tentar de novo.\")\n"
   ]
  }
 ],
 "metadata": {
  "colab": {
   "authorship_tag": "ABX9TyOhXS849QMNOUywxk2tdB82",
   "collapsed_sections": [
    "SdV97mpV1zYf",
    "K5xeXc506-Jq",
    "JiHAU4nKFwvV",
    "IZpkwgp8dPJJ"
   ],
   "provenance": []
  },
  "kernelspec": {
   "display_name": "Python 3",
   "name": "python3"
  },
  "language_info": {
   "codemirror_mode": {
    "name": "ipython",
    "version": 3
   },
   "file_extension": ".py",
   "mimetype": "text/x-python",
   "name": "python",
   "nbconvert_exporter": "python",
   "pygments_lexer": "ipython3",
   "version": "3.13.2"
  }
 },
 "nbformat": 4,
 "nbformat_minor": 0
}
